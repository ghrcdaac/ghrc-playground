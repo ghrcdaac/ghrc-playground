{
 "cells": [
  {
   "cell_type": "code",
   "execution_count": 1,
   "id": "20a601f5",
   "metadata": {},
   "outputs": [
    {
     "name": "stdout",
     "output_type": "stream",
     "text": [
      "Looking in indexes: https://test.pypi.org/simple/\n",
      "Collecting LDVisualization-Alan1321==0.0.2\n",
      "  Downloading https://test-files.pythonhosted.org/packages/3c/a0/5d0d37011d7162cd7d2dedd1637f169841ca1ff7bc5c3f85f8fab45f27a7/ldvisualization_alan1321-0.0.2-py3-none-any.whl (6.0 kB)\n",
      "Installing collected packages: LDVisualization-Alan1321\n",
      "Successfully installed LDVisualization-Alan1321-0.0.2\n"
     ]
    }
   ],
   "source": [
    "!pip install -i https://test.pypi.org/simple/ LDVisualization-Alan1321==0.0.2 "
   ]
  },
  {
   "cell_type": "code",
   "execution_count": 2,
   "id": "a21b2832",
   "metadata": {},
   "outputs": [],
   "source": [
    "from LDVisualization.inputHandlers import drop_down"
   ]
  },
  {
   "cell_type": "code",
   "execution_count": 3,
   "id": "c1448e40",
   "metadata": {},
   "outputs": [
    {
     "name": "stdout",
     "output_type": "stream",
     "text": [
      "Select a dataset from the options below: "
     ]
    },
    {
     "data": {
      "application/vnd.jupyter.widget-view+json": {
       "model_id": "2e320f1eb2f8487f809933c59776d522",
       "version_major": 2,
       "version_minor": 0
      },
      "text/plain": [
       "Dropdown(options=('TRMM_LIS_FULL', 'TRMM_LIS_SEASONAL', 'TRMM_LIS_MONTHLY', 'TRMM_LIS_DIURNAL', 'TRMM_LIS_DAIL…"
      ]
     },
     "metadata": {},
     "output_type": "display_data"
    },
    {
     "data": {
      "application/vnd.jupyter.widget-view+json": {
       "model_id": "4c5cffb2658a4b88a9293c1994635469",
       "version_major": 2,
       "version_minor": 0
      },
      "text/plain": [
       "Output()"
      ]
     },
     "metadata": {},
     "output_type": "display_data"
    }
   ],
   "source": [
    "drop_down()"
   ]
  },
  {
   "cell_type": "code",
   "execution_count": null,
   "id": "0fd1bd37",
   "metadata": {},
   "outputs": [],
   "source": []
  }
 ],
 "metadata": {
  "kernelspec": {
   "display_name": "Python 3 (ipykernel)",
   "language": "python",
   "name": "python3"
  },
  "language_info": {
   "codemirror_mode": {
    "name": "ipython",
    "version": 3
   },
   "file_extension": ".py",
   "mimetype": "text/x-python",
   "name": "python",
   "nbconvert_exporter": "python",
   "pygments_lexer": "ipython3",
   "version": "3.10.10"
  }
 },
 "nbformat": 4,
 "nbformat_minor": 5
}
