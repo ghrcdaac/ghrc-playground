{
 "cells": [
  {
   "cell_type": "markdown",
   "id": "ab4dd389",
   "metadata": {},
   "source": [
    "<h1 style=\"font-family: Arial, Helvetica, sans-serif; text-align:center;\">Lightning Dashboard <h1>"
   ]
  },
  {
   "cell_type": "markdown",
   "id": "9296f4a5",
   "metadata": {},
   "source": [
    "<hr style=\"background-color: black; height: 2px; border: none; margin: 5px 0; font-weight: bold;\">\n",
    "<h1 style=\"font-family: Arial, Helvetica, sans-serif; font-size: 16px; font-weight:bold; text-align:center\">\n",
    "    **Showing how COG (Cloud Optimized Geotiff Images) are visualized with mapbox using TRMM_LIS_FULL as a sample example.**\n",
    "</h1>\n",
    "<hr style=\"background-color: black; height: 2px; border: none; margin: 5px 0; font-weight: bold;\">"
   ]
  },
  {
   "cell_type": "markdown",
   "id": "364a307f",
   "metadata": {},
   "source": [
    "<span style=\"font-family: Arial, Helvetica, sans-serif; font-size: 16px; font-weight:bold; text-align:center\">\n",
    "    Optionally installing the required libraries depending on whether the system already has it\n",
    "</span>"
   ]
  },
  {
   "cell_type": "code",
   "execution_count": 1,
   "id": "5aded73b",
   "metadata": {},
   "outputs": [
    {
     "name": "stdout",
     "output_type": "stream",
     "text": [
      "plotly is already installed.\n",
      "rasterio is already installed.\n",
      "pandas is already installed.\n",
      "requests is already installed.\n",
      "xarray is already installed.\n",
      "earthaccess is already installed.\n",
      "gzip is already installed.\n"
     ]
    }
   ],
   "source": [
    "import importlib\n",
    "\n",
    "# List of packages to install\n",
    "packages_to_install = [\n",
    "    'plotly',\n",
    "    'rasterio',\n",
    "    'pandas',\n",
    "    'requests',\n",
    "    'xarray',\n",
    "    'earthaccess',\n",
    "    'gzip'\n",
    "]\n",
    "\n",
    "for package_name in packages_to_install:\n",
    "    if importlib.util.find_spec(package_name) is None:\n",
    "        !pip install {package_name}\n",
    "    else:\n",
    "        print(f\"{package_name} is already installed.\")"
   ]
  },
  {
   "cell_type": "markdown",
   "id": "05de0907",
   "metadata": {},
   "source": [
    "<span style=\"font-family: Arial, Helvetica, sans-serif; font-size: 16px; font-weight:bold\">\n",
    "    Importing library used for downloading TRMM LIS FULL dataset from EDS.\n",
    "</span>"
   ]
  },
  {
   "cell_type": "code",
   "execution_count": 2,
   "id": "d9056921",
   "metadata": {},
   "outputs": [],
   "source": [
    "# Suppress warnings\n",
    "import warnings\n",
    "warnings.simplefilter('ignore')\n",
    "warnings.filterwarnings('ignore')\n",
    "\n",
    "# Direct access\n",
    "import earthaccess as ea\n",
    "import os\n",
    "import random\n",
    "import gzip"
   ]
  },
  {
   "cell_type": "markdown",
   "id": "ee2b78c4",
   "metadata": {},
   "source": [
    "<span style=\"font-family: Arial, Helvetica, sans-serif; font-size: 16px; font-weight:bold\">\n",
    "    Functions below downloads the TRMM LIS FULL dataset directly from EDS and then unzips it.\n",
    "</span>"
   ]
  },
  {
   "cell_type": "code",
   "execution_count": 3,
   "id": "858e0d87",
   "metadata": {},
   "outputs": [],
   "source": [
    "#pull trmm_lis_full from EDS directly\n",
    "def download_data():\n",
    "    auth = ea.login(persist=True) # use 'interactive' strategy the first time to log in\n",
    "    DAAC2 = 'GHRC_DAAC'\n",
    "    #doi of dataset\n",
    "    doi = \"10.5067/LIS/LIS/DATA301\"\n",
    "    \n",
    "    # step2: get links #\n",
    "    results2 = ea.search_data(\n",
    "        doi=doi,\n",
    "        cloud_hosted=True,\n",
    "    )\n",
    "    \n",
    "    # data_link list\n",
    "    https_links2 = []  # external link, todo: find ways to directly access data using external link\n",
    "\n",
    "    for granule in results2:\n",
    "        https_links2.extend(granule.data_links(access=\"on_prem\"))\n",
    "\n",
    "    https_links2 = [file for file in https_links2 if file.endswith(\".nc.gz\")]#only select .nc files\n",
    "    file_count = len(https_links2)\n",
    "    folder_name = f\"./local_folder{random.randint(1, 10000)}\" \n",
    "    print(os.getcwd())\n",
    "    if file_count != 0:\n",
    "        os.mkdir(folder_name)#define folder to store data\n",
    "        ea.download(https_links2, folder_name)#download_data\n",
    "        print(f'Data downloaded on folder: {folder_name}')\n",
    "        \n",
    "    #unzip the .gz files\n",
    "    filename = unzip(os.path.join(os.getcwd(), folder_name))\n",
    "    \n",
    "    return file_count, folder_name, filename\n",
    "\n",
    "#unzipping the files in a directory\n",
    "def unzip(path):\n",
    "    original_cwd = os.getcwd()\n",
    "    os.chdir(path)\n",
    "    files = os.listdir()\n",
    "    \n",
    "    for file in files:\n",
    "        if file.endswith('.gz'):\n",
    "            with gzip.open(file, 'rb') as f_in:\n",
    "                with open(file[:-3], 'wb') as f_out:\n",
    "                    f_out.writelines(f_in)\n",
    "                    \n",
    "    for file in files:\n",
    "        if file.endswith('.gz'):\n",
    "            os.remove(file)\n",
    "    files = os.listdir()\n",
    "    os.chdir(original_cwd)        \n",
    "    return files"
   ]
  },
  {
   "cell_type": "markdown",
   "id": "b96319c6",
   "metadata": {},
   "source": [
    "<span style=\"font-family: Arial, Helvetica, sans-serif; font-size: 16px; font-weight:bold\">\n",
    "    Calling the download_data function. Data gets downloaded and saved inside a local folder. Might ask for authentication. \n",
    "</span>"
   ]
  },
  {
   "cell_type": "code",
   "execution_count": 4,
   "id": "8e5ea73d",
   "metadata": {},
   "outputs": [
    {
     "name": "stdout",
     "output_type": "stream",
     "text": [
      "EARTHDATA_USERNAME and EARTHDATA_PASSWORD are not set in the current environment, try setting them or use a different strategy (netrc, interactive)\n",
      "Unable to parse .netrc\n",
      "Enter your Earthdata Login username: alansubedi\n",
      "Enter your Earthdata password: ········\n",
      "You're now authenticated with NASA Earthdata Login\n",
      "Using token with expiration date: 12/19/2023\n",
      "Using user provided credentials for EDL\n",
      "Persisting credentials to .netrc\n",
      "Granules found: 1\n",
      "/home/asubedi/Desktop/work/GHRCCLOUD-5331_JupyterNotebook_for_LD\n"
     ]
    },
    {
     "data": {
      "application/vnd.jupyter.widget-view+json": {
       "model_id": "ff2fd0e8f0fe4494ad27eda69b1609b6",
       "version_major": 2,
       "version_minor": 0
      },
      "text/plain": [
       "QUEUEING TASKS | :   0%|          | 0/1 [00:00<?, ?it/s]"
      ]
     },
     "metadata": {},
     "output_type": "display_data"
    },
    {
     "data": {
      "application/vnd.jupyter.widget-view+json": {
       "model_id": "3eec7dcdecc74737af80354260d706e7",
       "version_major": 2,
       "version_minor": 0
      },
      "text/plain": [
       "PROCESSING TASKS | :   0%|          | 0/1 [00:00<?, ?it/s]"
      ]
     },
     "metadata": {},
     "output_type": "display_data"
    },
    {
     "data": {
      "application/vnd.jupyter.widget-view+json": {
       "model_id": "886b354544b642388e79a02558eb9f28",
       "version_major": 2,
       "version_minor": 0
      },
      "text/plain": [
       "COLLECTING RESULTS | :   0%|          | 0/1 [00:00<?, ?it/s]"
      ]
     },
     "metadata": {},
     "output_type": "display_data"
    },
    {
     "name": "stdout",
     "output_type": "stream",
     "text": [
      "Data downloaded on folder: ./local_folder3497\n"
     ]
    }
   ],
   "source": [
    "file_count, folder_name, filename = download_data()"
   ]
  },
  {
   "cell_type": "markdown",
   "id": "6400fa0b",
   "metadata": {},
   "source": [
    "<span style=\"font-family: Arial, Helvetica, sans-serif; font-size: 16px; font-weight:bold\">\n",
    "    Converting the TRMM LIS FULL netcdf4 file to COG. \n",
    "</span>"
   ]
  },
  {
   "cell_type": "code",
   "execution_count": 12,
   "id": "6121f6cb",
   "metadata": {},
   "outputs": [
    {
     "name": "stderr",
     "output_type": "stream",
     "text": [
      "ERROR 1: PROJ: internal_proj_create_from_database: /home/asubedi/miniconda3/share/proj/proj.db lacks DATABASE.LAYOUT.VERSION.MAJOR / DATABASE.LAYOUT.VERSION.MINOR metadata. It comes from another PROJ installation.\n"
     ]
    },
    {
     "name": "stdout",
     "output_type": "stream",
     "text": [
      "--> netcdf4 file and the COG are both stored at directory: \n",
      "   /home/asubedi/Desktop/work/GHRCCLOUD-5331_JupyterNotebook_for_LD/./local_folder3497\n"
     ]
    }
   ],
   "source": [
    "import xarray as xa\n",
    "\n",
    "file_path = os.path.join(os.getcwd(), folder_name, filename[0])\n",
    "\n",
    "def convert_to_COG(file_path, folder_name):\n",
    "    file = xa.open_dataset(file_path, engine='netcdf4', decode_coords='all')\n",
    "    var = \"VHRFC_LIS_FRD\"\n",
    "    grid = file[var]\n",
    "    grid = grid[::-1] # Orientation is flipped to the correct position\n",
    "        \n",
    "    grid.rio.set_spatial_dims(x_dim='Longitude', y_dim='Latitude', inplace=True)\n",
    "    grid.rio.crs\n",
    "    grid.rio.set_crs('epsg:4326')\n",
    "    cog_name = f'{var}_co.tif'\n",
    "    cog_path = os.path.join(os.getcwd(), folder_name, cog_name)\n",
    "    grid.rio.to_raster(rf'{cog_path}', driver='COG')\n",
    "    \n",
    "#calling the conversion function\n",
    "convert_to_COG(file_path, folder_name)\n",
    "\n",
    "print(f\"--> netcdf4 file and the COG are both stored at directory: \\n   {os.path.join(os.getcwd(), folder_name)}\")"
   ]
  },
  {
   "cell_type": "markdown",
   "id": "ae4d025a",
   "metadata": {},
   "source": [
    "<span style=\"font-family: Arial, Helvetica, sans-serif; font-size: 16px; font-weight:bold\">\n",
    "    COGs are then added to the s3 bucket and the tiling server (terracotta) is configured then deployed to the AWS. We now get started with the frontend.\n",
    "</span>"
   ]
  },
  {
   "cell_type": "code",
   "execution_count": 6,
   "id": "07ffee7c",
   "metadata": {},
   "outputs": [],
   "source": [
    "#base url of the deployed terracotta server\n",
    "base_url = \"https://wug8w3fg42.execute-api.us-west-2.amazonaws.com/development/singleband/\"\n",
    "\n",
    "#url for the trmm lis full dataset\n",
    "trmm_lis_full = \"VHRFC/201301/LIS/{z}/{x}/{y}.png?colormap=terrain&stretch_range=[0.325,23.426]\"\n",
    "\n",
    "#sample url for other datasets (proper date/time need to be added to each url to get proper COG response from the server)\n",
    "trmm_lis_seasonal = \"VHRSC/{date}/LIS/{z}/{x}/{y}.png?colormap=terrain&stretch_range=[0.00010455249866936,0.06766455620527]\"\n",
    "otd_monthly = \"HRMC/{date}/OTD/{z}/{x}/{y}.png?colormap=terrain&stretch_range=[0,0.2]\"\n",
    "isslis = \"ISS_LIS/{date}/{time}/{z}/{x}/{y}.png?colormap=terrain&stretch_range=[0,0]\"\n",
    "nalma = \"NALMA_{time}/{date}/{band}/{z}/{x}/{y}.png?colormap=terrain&stretch_range=[0,1]\""
   ]
  },
  {
   "cell_type": "markdown",
   "id": "c9c5de82",
   "metadata": {},
   "source": [
    "<span style=\"font-family: Arial, Helvetica, sans-serif; font-size: 16px; font-weight:bold; text-align:center\">\n",
    "    Importing Libraries used for Visualization\n",
    "</span>"
   ]
  },
  {
   "cell_type": "code",
   "execution_count": 7,
   "id": "0cf9be21",
   "metadata": {},
   "outputs": [],
   "source": [
    "import plotly.io as pio\n",
    "import plotly.express as px\n",
    "import rasterio\n",
    "from rasterio.plot import show\n",
    "import pandas as pd\n",
    "import requests"
   ]
  },
  {
   "cell_type": "markdown",
   "id": "1f2b84b8",
   "metadata": {},
   "source": [
    "<span style=\"font-family: Arial, Helvetica, sans-serif; font-size: 16px; font-weight:bold; text-align:center\">\n",
    "    Function Below visualizes COG on mapbox. COG image url needs to be passed\n",
    "</span>"
   ]
  },
  {
   "cell_type": "code",
   "execution_count": 8,
   "id": "33553291",
   "metadata": {},
   "outputs": [],
   "source": [
    "#this function visualized any given COG inside of a mapbox view\n",
    "def visualize_COG(layer_url, zoom=1, center={\"lat\": 33.543682, \"lon\": -86.779633}):\n",
    "    pio.renderers.default = 'iframe'\n",
    "    styles_list = [\n",
    "        \"carto-darkmatter\",\n",
    "        \"carto-positron\",\n",
    "        \"open-street-map\",\n",
    "        \"stamen-terrain\",\n",
    "        \"stamen-toner\",\n",
    "        \"stamen-watercolor\",\n",
    "        \"white-bg\"\n",
    "    ]\n",
    "    style = styles_list[1]\n",
    "    # seed value, for mapbox to load in colab\n",
    "    df = pd.DataFrame([[1001, 5.3],[1001, 5.3]])\n",
    "    df.columns = [\"flips\", \"unemp\"]\n",
    "    fig = px.choropleth_mapbox(\n",
    "                                df, \n",
    "                                color='unemp',\n",
    "                                color_continuous_scale=\"Viridis\",\n",
    "                                range_color=(0, 12),\n",
    "                                mapbox_style=style,\n",
    "                                center=center,\n",
    "                                opacity=1,\n",
    "                                zoom=zoom \n",
    "                              )\n",
    "    fig.update_layout(\n",
    "        mapbox_layers=[\n",
    "            {\n",
    "                \"sourcetype\": \"raster\",\n",
    "                \"source\": [layer_url]\n",
    "            }\n",
    "          ])\n",
    "    fig.update_layout(margin={\"r\":0,\"t\":0,\"l\":0,\"b\":0})\n",
    "    fig.update_layout(mapbox_style=style)\n",
    "    fig.layout.mapbox.zoom = zoom\n",
    "    fig.show()"
   ]
  },
  {
   "cell_type": "markdown",
   "id": "4b8c315a",
   "metadata": {},
   "source": [
    "<span style=\"font-family: Arial, Helvetica, sans-serif; font-size: 16px; font-weight:bold; text-align:center\">\n",
    "    Calling the visualize function (TRMM LIS FULL is visualized on the Mapbox)\n",
    "</span>"
   ]
  },
  {
   "cell_type": "code",
   "execution_count": 9,
   "id": "3b1d7d70",
   "metadata": {},
   "outputs": [
    {
     "data": {
      "text/html": [
       "<iframe\n",
       "    scrolling=\"no\"\n",
       "    width=\"100%\"\n",
       "    height=\"545px\"\n",
       "    src=\"iframe_figures/figure_9.html\"\n",
       "    frameborder=\"0\"\n",
       "    allowfullscreen\n",
       "></iframe>\n"
      ]
     },
     "metadata": {},
     "output_type": "display_data"
    }
   ],
   "source": [
    "visualize_COG(base_url+trmm_lis_full)"
   ]
  },
  {
   "cell_type": "markdown",
   "id": "5b2994fa",
   "metadata": {},
   "source": [
    "<hr style=\"background-color: black; height: 2px; border: none; margin: 5px 0; font-weight: bold;\">\n",
    "<h1 style=\"font-family: Arial, Helvetica, sans-serif; font-size: 16px; font-weight:bold; text-align:center\">\n",
    "    Package below uses the same concept as above to visualize all the current available datasets on the Lightning Dashboard.\n",
    "</h1>\n",
    "<hr style=\"background-color: black; height: 2px; border: none; margin: 5px 0; font-weight: bold;\">"
   ]
  },
  {
   "cell_type": "code",
   "execution_count": 10,
   "id": "1bb14c8f",
   "metadata": {},
   "outputs": [],
   "source": [
    "from LDVisualization.inputHandlers import drop_down"
   ]
  },
  {
   "cell_type": "code",
   "execution_count": 11,
   "id": "2f914a97",
   "metadata": {},
   "outputs": [
    {
     "name": "stdout",
     "output_type": "stream",
     "text": [
      "Select a dataset from the options below: "
     ]
    },
    {
     "data": {
      "application/vnd.jupyter.widget-view+json": {
       "model_id": "40c45b172d244c54ad1c290cfb3c4edd",
       "version_major": 2,
       "version_minor": 0
      },
      "text/plain": [
       "Dropdown(options=('TRMM_LIS_FULL', 'TRMM_LIS_SEASONAL', 'TRMM_LIS_MONTHLY', 'TRMM_LIS_DIURNAL', 'TRMM_LIS_DAIL…"
      ]
     },
     "metadata": {},
     "output_type": "display_data"
    },
    {
     "data": {
      "application/vnd.jupyter.widget-view+json": {
       "model_id": "319fff3879c14decbc3fd25e4cef75bd",
       "version_major": 2,
       "version_minor": 0
      },
      "text/plain": [
       "Output()"
      ]
     },
     "metadata": {},
     "output_type": "display_data"
    }
   ],
   "source": [
    "drop_down()"
   ]
  },
  {
   "cell_type": "code",
   "execution_count": null,
   "id": "d1f6e8b1",
   "metadata": {},
   "outputs": [],
   "source": []
  },
  {
   "cell_type": "code",
   "execution_count": null,
   "id": "02e20ba6",
   "metadata": {},
   "outputs": [],
   "source": []
  }
 ],
 "metadata": {
  "kernelspec": {
   "display_name": "Python 3 (ipykernel)",
   "language": "python",
   "name": "python3"
  },
  "language_info": {
   "codemirror_mode": {
    "name": "ipython",
    "version": 3
   },
   "file_extension": ".py",
   "mimetype": "text/x-python",
   "name": "python",
   "nbconvert_exporter": "python",
   "pygments_lexer": "ipython3",
   "version": "3.10.10"
  }
 },
 "nbformat": 4,
 "nbformat_minor": 5
}
