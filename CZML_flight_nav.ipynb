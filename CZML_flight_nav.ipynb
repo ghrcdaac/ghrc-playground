{
 "cells": [
  {
   "cell_type": "markdown",
   "metadata": {},
   "source": [
    "#### Install `fcx_playground` package"
   ]
  },
  {
   "cell_type": "code",
   "execution_count": null,
   "metadata": {},
   "outputs": [],
   "source": [
    "%pip install --index-url https://test.pypi.org/simple/ --no-deps fcx_playground"
   ]
  },
  {
   "cell_type": "markdown",
   "metadata": {},
   "source": [
    "#### CZML Data Processing for NAV data"
   ]
  },
  {
   "cell_type": "code",
   "execution_count": null,
   "metadata": {},
   "outputs": [],
   "source": [
    "from fcx_playground.fcx_dataprocess.czml_nav import NavCZMLDataProcess"
   ]
  },
  {
   "cell_type": "code",
   "execution_count": null,
   "metadata": {},
   "outputs": [],
   "source": [
    "obj = NavCZMLDataProcess()"
   ]
  },
  {
   "cell_type": "code",
   "execution_count": null,
   "metadata": {},
   "outputs": [],
   "source": [
    "data = obj.ingest(\"./test_data/goesrplt_naver2_IWG1_20170322-0136.txt\")"
   ]
  },
  {
   "cell_type": "code",
   "execution_count": null,
   "metadata": {},
   "outputs": [],
   "source": [
    "pre_processed_data = obj.preprocess(data)"
   ]
  },
  {
   "cell_type": "code",
   "execution_count": null,
   "metadata": {},
   "outputs": [],
   "source": [
    "czml_str = obj.prep_visualization(pre_processed_data)"
   ]
  },
  {
   "cell_type": "markdown",
   "metadata": {},
   "source": [
    "Save the string to a new file named `nav_czml.czml` inside `temp` directory"
   ]
  },
  {
   "cell_type": "code",
   "execution_count": null,
   "metadata": {},
   "outputs": [],
   "source": [
    "import os\n",
    "\n",
    "tempdir = 'temp' \n",
    "if not os.path.exists(tempdir):\n",
    "    os.makedirs(tempdir)\n",
    "    \n",
    "with open(\"temp/nav_czml.czml\", \"w\") as czml_file:\n",
    "    czml_file.write(czml_str)"
   ]
  },
  {
   "cell_type": "markdown",
   "metadata": {},
   "source": [
    "#### Display in Cesium\n"
   ]
  },
  {
   "cell_type": "code",
   "execution_count": null,
   "metadata": {},
   "outputs": [],
   "source": [
    "from fcx_playground.fcx_cesium_viz.czmlviz import CZMLViz"
   ]
  },
  {
   "cell_type": "markdown",
   "metadata": {},
   "source": [
    "<i> For the generated czml file in \"./temp/nav_czml.czml\", get the download link and pass it to generate_html function described below. </i>\n",
    "\\\n",
    "\\\n",
    "To get the download link:\n",
    "  1. Go to the directory containing `nav_czml.czml`\n",
    "  2. Right click `nav_czml.czml` then select `Copy Download Link`\n",
    "  3. Then, Paste it to the `generate_html` method (in the following cell)"
   ]
  },
  {
   "cell_type": "code",
   "execution_count": null,
   "metadata": {},
   "outputs": [],
   "source": [
    "czml_viz_obj = CZMLViz()\n",
    "nav_czml_cesium_html = czml_viz_obj.generate_html(\"link_to_nav_czml\")"
   ]
  },
  {
   "cell_type": "code",
   "execution_count": null,
   "metadata": {},
   "outputs": [],
   "source": [
    "import IPython.display\n",
    "\n",
    "IPython.display.HTML(data = nav_czml_cesium_html)"
   ]
  }
 ],
 "metadata": {
  "kernelspec": {
   "display_name": "itsc-fcx",
   "language": "python",
   "name": "python3"
  },
  "language_info": {
   "codemirror_mode": {
    "name": "ipython",
    "version": 3
   },
   "file_extension": ".py",
   "mimetype": "text/x-python",
   "name": "python",
   "nbconvert_exporter": "python",
   "pygments_lexer": "ipython3",
   "version": "3.9.15"
  },
  "orig_nbformat": 4
 },
 "nbformat": 4,
 "nbformat_minor": 2
}
